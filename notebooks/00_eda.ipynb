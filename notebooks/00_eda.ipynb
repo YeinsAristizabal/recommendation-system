{
 "cells": [
  {
   "cell_type": "markdown",
   "id": "d2727a26",
   "metadata": {},
   "source": [
    "## EDA"
   ]
  },
  {
   "cell_type": "markdown",
   "id": "c2482264",
   "metadata": {},
   "source": [
    "### Carga de datos"
   ]
  },
  {
   "cell_type": "code",
   "execution_count": 1,
   "id": "51d45073",
   "metadata": {},
   "outputs": [
    {
     "data": {
      "text/html": [
       "<div>\n",
       "<style scoped>\n",
       "    .dataframe tbody tr th:only-of-type {\n",
       "        vertical-align: middle;\n",
       "    }\n",
       "\n",
       "    .dataframe tbody tr th {\n",
       "        vertical-align: top;\n",
       "    }\n",
       "\n",
       "    .dataframe thead th {\n",
       "        text-align: right;\n",
       "    }\n",
       "</style>\n",
       "<table border=\"1\" class=\"dataframe\">\n",
       "  <thead>\n",
       "    <tr style=\"text-align: right;\">\n",
       "      <th></th>\n",
       "      <th>UUID_CLIENTE_CONSUMIDOR</th>\n",
       "      <th>PEDIDO</th>\n",
       "      <th>FECHA_SOLUCION</th>\n",
       "      <th>COD_PRODUCTO</th>\n",
       "      <th>CATEGORIA</th>\n",
       "      <th>UNIDADES_BRUTAS</th>\n",
       "      <th>VENTA_BRUTA_CON_IVA</th>\n",
       "    </tr>\n",
       "  </thead>\n",
       "  <tbody>\n",
       "    <tr>\n",
       "      <th>0</th>\n",
       "      <td>5F333C92C61098CC840A180313615250</td>\n",
       "      <td>39562883</td>\n",
       "      <td>2023-09-28</td>\n",
       "      <td>26605</td>\n",
       "      <td>Jabones</td>\n",
       "      <td>1</td>\n",
       "      <td>10043.0</td>\n",
       "    </tr>\n",
       "    <tr>\n",
       "      <th>1</th>\n",
       "      <td>323C3C3B1404F866097F000001615250</td>\n",
       "      <td>39758414</td>\n",
       "      <td>2023-10-14</td>\n",
       "      <td>28308</td>\n",
       "      <td>Cuidado Capilar F</td>\n",
       "      <td>1</td>\n",
       "      <td>23859.0</td>\n",
       "    </tr>\n",
       "    <tr>\n",
       "      <th>2</th>\n",
       "      <td>6C2FA988251C4F35BD0A180313615250</td>\n",
       "      <td>39107912</td>\n",
       "      <td>2023-08-23</td>\n",
       "      <td>23610</td>\n",
       "      <td>Carnes Frias</td>\n",
       "      <td>1</td>\n",
       "      <td>20152.0</td>\n",
       "    </tr>\n",
       "    <tr>\n",
       "      <th>3</th>\n",
       "      <td>37908B3B6309B1549E7F000001615250</td>\n",
       "      <td>39197173</td>\n",
       "      <td>2023-08-30</td>\n",
       "      <td>18460</td>\n",
       "      <td>Cuidado Capilar F</td>\n",
       "      <td>1</td>\n",
       "      <td>21500.0</td>\n",
       "    </tr>\n",
       "    <tr>\n",
       "      <th>4</th>\n",
       "      <td>85C5EF6E09B085614D0A180327615250</td>\n",
       "      <td>36658943</td>\n",
       "      <td>2023-01-18</td>\n",
       "      <td>28485</td>\n",
       "      <td>Cuidado Oral</td>\n",
       "      <td>1</td>\n",
       "      <td>10100.0</td>\n",
       "    </tr>\n",
       "  </tbody>\n",
       "</table>\n",
       "</div>"
      ],
      "text/plain": [
       "            UUID_CLIENTE_CONSUMIDOR    PEDIDO FECHA_SOLUCION  COD_PRODUCTO  \\\n",
       "0  5F333C92C61098CC840A180313615250  39562883     2023-09-28         26605   \n",
       "1  323C3C3B1404F866097F000001615250  39758414     2023-10-14         28308   \n",
       "2  6C2FA988251C4F35BD0A180313615250  39107912     2023-08-23         23610   \n",
       "3  37908B3B6309B1549E7F000001615250  39197173     2023-08-30         18460   \n",
       "4  85C5EF6E09B085614D0A180327615250  36658943     2023-01-18         28485   \n",
       "\n",
       "           CATEGORIA  UNIDADES_BRUTAS  VENTA_BRUTA_CON_IVA  \n",
       "0            Jabones                1              10043.0  \n",
       "1  Cuidado Capilar F                1              23859.0  \n",
       "2       Carnes Frias                1              20152.0  \n",
       "3  Cuidado Capilar F                1              21500.0  \n",
       "4       Cuidado Oral                1              10100.0  "
      ]
     },
     "execution_count": 1,
     "metadata": {},
     "output_type": "execute_result"
    }
   ],
   "source": [
    "# Carga de datos con pandas\n",
    "\n",
    "import pandas as pd\n",
    "\n",
    "table_01 = pd.read_csv('..//data//raw//dataset_sample_1.csv')\n",
    "table_02 = pd.read_csv('..//data//raw//dataset_sample_2.csv')\n",
    "\n",
    "table_01.head()"
   ]
  },
  {
   "cell_type": "code",
   "execution_count": 2,
   "id": "2cce850a",
   "metadata": {},
   "outputs": [
    {
     "data": {
      "text/html": [
       "<div>\n",
       "<style scoped>\n",
       "    .dataframe tbody tr th:only-of-type {\n",
       "        vertical-align: middle;\n",
       "    }\n",
       "\n",
       "    .dataframe tbody tr th {\n",
       "        vertical-align: top;\n",
       "    }\n",
       "\n",
       "    .dataframe thead th {\n",
       "        text-align: right;\n",
       "    }\n",
       "</style>\n",
       "<table border=\"1\" class=\"dataframe\">\n",
       "  <thead>\n",
       "    <tr style=\"text-align: right;\">\n",
       "      <th></th>\n",
       "      <th>UUID_CLIENTE_CONSUMIDOR</th>\n",
       "      <th>DEPARTAMENTO</th>\n",
       "      <th>CIUDAD</th>\n",
       "      <th>GENERO_DIM_CLIENTE</th>\n",
       "      <th>FECHANACIMIENTO_DIM_CLIENTE</th>\n",
       "    </tr>\n",
       "  </thead>\n",
       "  <tbody>\n",
       "    <tr>\n",
       "      <th>0</th>\n",
       "      <td>5F333C92C61098CC840A180313615250</td>\n",
       "      <td>ANTIOQUIA</td>\n",
       "      <td>MEDELLÍN</td>\n",
       "      <td>F</td>\n",
       "      <td>1984-05-03T00:00:00Z</td>\n",
       "    </tr>\n",
       "    <tr>\n",
       "      <th>1</th>\n",
       "      <td>323C3C3B1404F866097F000001615250</td>\n",
       "      <td>VALLE DEL CAUCA</td>\n",
       "      <td>CALI</td>\n",
       "      <td>F</td>\n",
       "      <td>1972-12-26T00:00:00Z</td>\n",
       "    </tr>\n",
       "    <tr>\n",
       "      <th>2</th>\n",
       "      <td>6C2FA988251C4F35BD0A180313615250</td>\n",
       "      <td>VALLE DEL CAUCA</td>\n",
       "      <td>CALI</td>\n",
       "      <td>F</td>\n",
       "      <td>1991-11-18T00:00:00Z</td>\n",
       "    </tr>\n",
       "    <tr>\n",
       "      <th>3</th>\n",
       "      <td>37908B3B6309B1549E7F000001615250</td>\n",
       "      <td>NORTE DE SANTANDER</td>\n",
       "      <td>PAMPLONA</td>\n",
       "      <td>F</td>\n",
       "      <td>1983-07-16T00:00:00Z</td>\n",
       "    </tr>\n",
       "    <tr>\n",
       "      <th>4</th>\n",
       "      <td>85C5EF6E09B085614D0A180327615250</td>\n",
       "      <td>BOGOTÁ, D.C.</td>\n",
       "      <td>BOGOTÁ, D.C.</td>\n",
       "      <td>NaN</td>\n",
       "      <td>NaN</td>\n",
       "    </tr>\n",
       "  </tbody>\n",
       "</table>\n",
       "</div>"
      ],
      "text/plain": [
       "            UUID_CLIENTE_CONSUMIDOR        DEPARTAMENTO        CIUDAD  \\\n",
       "0  5F333C92C61098CC840A180313615250           ANTIOQUIA      MEDELLÍN   \n",
       "1  323C3C3B1404F866097F000001615250     VALLE DEL CAUCA          CALI   \n",
       "2  6C2FA988251C4F35BD0A180313615250     VALLE DEL CAUCA          CALI   \n",
       "3  37908B3B6309B1549E7F000001615250  NORTE DE SANTANDER      PAMPLONA   \n",
       "4  85C5EF6E09B085614D0A180327615250        BOGOTÁ, D.C.  BOGOTÁ, D.C.   \n",
       "\n",
       "  GENERO_DIM_CLIENTE FECHANACIMIENTO_DIM_CLIENTE  \n",
       "0                  F        1984-05-03T00:00:00Z  \n",
       "1                  F        1972-12-26T00:00:00Z  \n",
       "2                  F        1991-11-18T00:00:00Z  \n",
       "3                  F        1983-07-16T00:00:00Z  \n",
       "4                NaN                         NaN  "
      ]
     },
     "execution_count": 2,
     "metadata": {},
     "output_type": "execute_result"
    }
   ],
   "source": [
    "table_02.head()"
   ]
  },
  {
   "cell_type": "markdown",
   "id": "125005cc",
   "metadata": {},
   "source": [
    "### Análisis básica de variables"
   ]
  },
  {
   "cell_type": "code",
   "execution_count": 3,
   "id": "8af48f66",
   "metadata": {},
   "outputs": [
    {
     "name": "stdout",
     "output_type": "stream",
     "text": [
      "<class 'pandas.core.frame.DataFrame'>\n",
      "RangeIndex: 231000 entries, 0 to 230999\n",
      "Data columns (total 7 columns):\n",
      " #   Column                   Non-Null Count   Dtype  \n",
      "---  ------                   --------------   -----  \n",
      " 0   UUID_CLIENTE_CONSUMIDOR  231000 non-null  object \n",
      " 1   PEDIDO                   231000 non-null  int64  \n",
      " 2   FECHA_SOLUCION           231000 non-null  object \n",
      " 3   COD_PRODUCTO             231000 non-null  int64  \n",
      " 4   CATEGORIA                229958 non-null  object \n",
      " 5   UNIDADES_BRUTAS          231000 non-null  int64  \n",
      " 6   VENTA_BRUTA_CON_IVA      231000 non-null  float64\n",
      "dtypes: float64(1), int64(3), object(3)\n",
      "memory usage: 12.3+ MB\n"
     ]
    }
   ],
   "source": [
    "# Tipos de datos en la base de datos\n",
    "table_01.info()"
   ]
  },
  {
   "cell_type": "code",
   "execution_count": 5,
   "id": "5ce9f613",
   "metadata": {},
   "outputs": [
    {
     "name": "stdout",
     "output_type": "stream",
     "text": [
      "<class 'pandas.core.frame.DataFrame'>\n",
      "RangeIndex: 231000 entries, 0 to 230999\n",
      "Data columns (total 5 columns):\n",
      " #   Column                       Non-Null Count   Dtype \n",
      "---  ------                       --------------   ----- \n",
      " 0   UUID_CLIENTE_CONSUMIDOR      231000 non-null  object\n",
      " 1   DEPARTAMENTO                 230929 non-null  object\n",
      " 2   CIUDAD                       230929 non-null  object\n",
      " 3   GENERO_DIM_CLIENTE           197022 non-null  object\n",
      " 4   FECHANACIMIENTO_DIM_CLIENTE  201559 non-null  object\n",
      "dtypes: object(5)\n",
      "memory usage: 8.8+ MB\n"
     ]
    }
   ],
   "source": [
    "table_02.info()"
   ]
  },
  {
   "cell_type": "markdown",
   "id": "42990617",
   "metadata": {},
   "source": [
    "1. Tipos de datos inconsistentes unicamente para las fechas que estan en tipo objetct y no en datetime\n",
    "2. 231.000 registros totales detectados en ambos datasets"
   ]
  },
  {
   "cell_type": "markdown",
   "id": "5a39a7ac",
   "metadata": {},
   "source": [
    "### Análisis básico consistencia en los datos"
   ]
  },
  {
   "cell_type": "code",
   "execution_count": 6,
   "id": "92d6b873",
   "metadata": {},
   "outputs": [
    {
     "data": {
      "text/html": [
       "<div>\n",
       "<style scoped>\n",
       "    .dataframe tbody tr th:only-of-type {\n",
       "        vertical-align: middle;\n",
       "    }\n",
       "\n",
       "    .dataframe tbody tr th {\n",
       "        vertical-align: top;\n",
       "    }\n",
       "\n",
       "    .dataframe thead th {\n",
       "        text-align: right;\n",
       "    }\n",
       "</style>\n",
       "<table border=\"1\" class=\"dataframe\">\n",
       "  <thead>\n",
       "    <tr style=\"text-align: right;\">\n",
       "      <th></th>\n",
       "      <th>PEDIDO</th>\n",
       "      <th>COD_PRODUCTO</th>\n",
       "      <th>UNIDADES_BRUTAS</th>\n",
       "      <th>VENTA_BRUTA_CON_IVA</th>\n",
       "    </tr>\n",
       "  </thead>\n",
       "  <tbody>\n",
       "    <tr>\n",
       "      <th>count</th>\n",
       "      <td>2.310000e+05</td>\n",
       "      <td>231000.000000</td>\n",
       "      <td>231000.000000</td>\n",
       "      <td>2.310000e+05</td>\n",
       "    </tr>\n",
       "    <tr>\n",
       "      <th>mean</th>\n",
       "      <td>3.843592e+07</td>\n",
       "      <td>42026.958758</td>\n",
       "      <td>2.189221</td>\n",
       "      <td>2.685284e+04</td>\n",
       "    </tr>\n",
       "    <tr>\n",
       "      <th>std</th>\n",
       "      <td>1.090720e+06</td>\n",
       "      <td>32698.940138</td>\n",
       "      <td>28.024392</td>\n",
       "      <td>1.831105e+05</td>\n",
       "    </tr>\n",
       "    <tr>\n",
       "      <th>min</th>\n",
       "      <td>3.625621e+07</td>\n",
       "      <td>2.000000</td>\n",
       "      <td>0.000000</td>\n",
       "      <td>0.000000e+00</td>\n",
       "    </tr>\n",
       "    <tr>\n",
       "      <th>25%</th>\n",
       "      <td>3.752120e+07</td>\n",
       "      <td>23518.000000</td>\n",
       "      <td>1.000000</td>\n",
       "      <td>1.023466e+04</td>\n",
       "    </tr>\n",
       "    <tr>\n",
       "      <th>50%</th>\n",
       "      <td>3.854015e+07</td>\n",
       "      <td>30491.000000</td>\n",
       "      <td>1.000000</td>\n",
       "      <td>1.503000e+04</td>\n",
       "    </tr>\n",
       "    <tr>\n",
       "      <th>75%</th>\n",
       "      <td>3.936598e+07</td>\n",
       "      <td>93252.000000</td>\n",
       "      <td>2.000000</td>\n",
       "      <td>2.392000e+04</td>\n",
       "    </tr>\n",
       "    <tr>\n",
       "      <th>max</th>\n",
       "      <td>4.012728e+07</td>\n",
       "      <td>342421.000000</td>\n",
       "      <td>4800.000000</td>\n",
       "      <td>2.095200e+07</td>\n",
       "    </tr>\n",
       "  </tbody>\n",
       "</table>\n",
       "</div>"
      ],
      "text/plain": [
       "             PEDIDO   COD_PRODUCTO  UNIDADES_BRUTAS  VENTA_BRUTA_CON_IVA\n",
       "count  2.310000e+05  231000.000000    231000.000000         2.310000e+05\n",
       "mean   3.843592e+07   42026.958758         2.189221         2.685284e+04\n",
       "std    1.090720e+06   32698.940138        28.024392         1.831105e+05\n",
       "min    3.625621e+07       2.000000         0.000000         0.000000e+00\n",
       "25%    3.752120e+07   23518.000000         1.000000         1.023466e+04\n",
       "50%    3.854015e+07   30491.000000         1.000000         1.503000e+04\n",
       "75%    3.936598e+07   93252.000000         2.000000         2.392000e+04\n",
       "max    4.012728e+07  342421.000000      4800.000000         2.095200e+07"
      ]
     },
     "execution_count": 6,
     "metadata": {},
     "output_type": "execute_result"
    }
   ],
   "source": [
    "table_01.describe()"
   ]
  },
  {
   "cell_type": "markdown",
   "id": "ba4a68fc",
   "metadata": {},
   "source": [
    "* No hay valores nulos en las variables numéricas.\n",
    "* Número mínimo de unidades brutas: 0 unidades\n",
    "* Número máximo de unidades brutas: 4.800 unidades\n",
    "* Número medio de unidades brutas: ~2.18 unidades\n",
    "---\n",
    "A partir de esta información, puedo inferir que no existen valores inconsistentes en la variable unidades brutas, como valores negativos. Sin embargo, analizando el valor máximo de unidades brutas en 4.800 vs la media, una hipótesis, es que este valor puede ser un outlier"
   ]
  },
  {
   "cell_type": "code",
   "execution_count": 11,
   "id": "8d6dc86f",
   "metadata": {},
   "outputs": [
    {
     "name": "stdout",
     "output_type": "stream",
     "text": [
      "Fecha Minima 2022-12-01 00:00:00\n",
      "Fecha Máxima 2023-11-16 00:00:00\n"
     ]
    }
   ],
   "source": [
    "print(\"Fecha Minima\", min(pd.to_datetime(table_01[\"FECHA_SOLUCION\"])))\n",
    "print(\"Fecha Máxima\", max(pd.to_datetime(table_01[\"FECHA_SOLUCION\"])))"
   ]
  },
  {
   "cell_type": "markdown",
   "id": "b6e9a21b",
   "metadata": {},
   "source": [
    "* Datos normales dentro del rango de fechas."
   ]
  },
  {
   "cell_type": "code",
   "execution_count": 15,
   "id": "79d48552",
   "metadata": {},
   "outputs": [
    {
     "name": "stdout",
     "output_type": "stream",
     "text": [
      "Clientes únicos dataset1:  37570\n",
      "Clientes únicos dataset2:  37570\n",
      "Peidos únicos dataset1:  85818\n"
     ]
    }
   ],
   "source": [
    "print(\"Clientes únicos dataset1: \", table_01[\"UUID_CLIENTE_CONSUMIDOR\"].nunique())\n",
    "print(\"Clientes únicos dataset2: \", table_02[\"UUID_CLIENTE_CONSUMIDOR\"].nunique())\n",
    "print(\"Peidos únicos dataset1: \", table_01[\"PEDIDO\"].nunique())"
   ]
  },
  {
   "cell_type": "code",
   "execution_count": 16,
   "id": "7f4a1eeb",
   "metadata": {},
   "outputs": [
    {
     "data": {
      "text/plain": [
       "UUID_CLIENTE_CONSUMIDOR       0\n",
       "PEDIDO                        0\n",
       "FECHA_SOLUCION                0\n",
       "COD_PRODUCTO                  0\n",
       "CATEGORIA                  1042\n",
       "UNIDADES_BRUTAS               0\n",
       "VENTA_BRUTA_CON_IVA           0\n",
       "dtype: int64"
      ]
     },
     "execution_count": 16,
     "metadata": {},
     "output_type": "execute_result"
    }
   ],
   "source": [
    "table_01.isnull().sum()"
   ]
  },
  {
   "cell_type": "code",
   "execution_count": 17,
   "id": "223f37a3",
   "metadata": {},
   "outputs": [
    {
     "data": {
      "text/plain": [
       "UUID_CLIENTE_CONSUMIDOR            0\n",
       "DEPARTAMENTO                      71\n",
       "CIUDAD                            71\n",
       "GENERO_DIM_CLIENTE             33978\n",
       "FECHANACIMIENTO_DIM_CLIENTE    29441\n",
       "dtype: int64"
      ]
     },
     "execution_count": 17,
     "metadata": {},
     "output_type": "execute_result"
    }
   ],
   "source": [
    "table_02.isnull().sum()"
   ]
  },
  {
   "cell_type": "markdown",
   "id": "1beed815",
   "metadata": {},
   "source": [
    "* Valores nulos en la variable CATEGORIA del dataset1\n",
    "* Valores nulos en todas las variables del dataset2 a excepción de UUID_CLIENTE_CONSUMIDOR\n",
    "* Se tendria que hacer un entendimiento de por qué esos valores nulos, si fue error del sistema de adquicisión de datos, si realmente deberian ser nulos etc. de acuerdo con este análisis se tomará un desición de si se imputan datos, se remueven esos valores etc."
   ]
  },
  {
   "cell_type": "code",
   "execution_count": 28,
   "id": "0dd76f42",
   "metadata": {},
   "outputs": [
    {
     "name": "stdout",
     "output_type": "stream",
     "text": [
      "78\n",
      "191697\n"
     ]
    }
   ],
   "source": [
    "print(table_01.duplicated(subset=table_01.columns).sum())\n",
    "print(table_02.duplicated(subset=table_02.columns).sum())"
   ]
  },
  {
   "cell_type": "markdown",
   "id": "cb17b8d6",
   "metadata": {},
   "source": [
    "* Se detectaron 78 valores duplicados en el dataset1. Se debe hacer un entendimiento de esos valores duplicados, si realmente es un error del sistema y puede ser que usuarios hicieron compras en la misma fecha y hora por ejemplo.\n",
    "* Se detectaron 191.697 valores duplicados en el dataset2. Para este dataset2, no hay problema en tener valores duplicados, pues son datos personales de los clientes por cada compra."
   ]
  },
  {
   "cell_type": "markdown",
   "id": "d4d1efd9",
   "metadata": {},
   "source": [
    "### Análisis descriptivos básicos"
   ]
  },
  {
   "cell_type": "code",
   "execution_count": null,
   "id": "610c0778",
   "metadata": {},
   "outputs": [
    {
     "name": "stdout",
     "output_type": "stream",
     "text": [
      "Principales categorías consumidas\n"
     ]
    },
    {
     "data": {
      "text/plain": [
       "CATEGORIA\n",
       "Galletas                            30266\n",
       "Bebidas Para Preparar               22929\n",
       "Golosinas                           14438\n",
       "Hogar                               11843\n",
       "Cuidado Capilar F                   11038\n",
       "Maquillaje                           8953\n",
       "Snacks Y Frutos Secos                8791\n",
       "Carnes Frias                         7629\n",
       "Aseo Del Hogar                       6495\n",
       "Alimentos Larga Vida Y Conservas     6363\n",
       "Name: count, dtype: int64"
      ]
     },
     "execution_count": 62,
     "metadata": {},
     "output_type": "execute_result"
    }
   ],
   "source": [
    "print(\"Principales categorías consumidas por transacción\")\n",
    "table_01[\"CATEGORIA\"].value_counts().head(10)"
   ]
  },
  {
   "cell_type": "code",
   "execution_count": null,
   "id": "647fadc9",
   "metadata": {},
   "outputs": [
    {
     "name": "stdout",
     "output_type": "stream",
     "text": [
      "Principales categorías consumidas\n",
      "Porcentajes de cada producto\n"
     ]
    },
    {
     "data": {
      "text/plain": [
       "CATEGORIA\n",
       "Galletas                            13.10\n",
       "Bebidas Para Preparar                9.93\n",
       "Golosinas                            6.25\n",
       "Hogar                                5.13\n",
       "Cuidado Capilar F                    4.78\n",
       "Maquillaje                           3.88\n",
       "Snacks Y Frutos Secos                3.81\n",
       "Carnes Frias                         3.30\n",
       "Aseo Del Hogar                       2.81\n",
       "Alimentos Larga Vida Y Conservas     2.75\n",
       "Name: count, dtype: float64"
      ]
     },
     "execution_count": 63,
     "metadata": {},
     "output_type": "execute_result"
    }
   ],
   "source": [
    "percents = round(((table_01[\"CATEGORIA\"].value_counts().head(10)) / len(table_01) ) * 100, 2)\n",
    "print(\"Porcentajes de cada producto respecto al total de transacciones\")\n",
    "percents"
   ]
  },
  {
   "cell_type": "markdown",
   "id": "a55aca85",
   "metadata": {},
   "source": [
    "* Galletas, el producto más comprado en términos de frecuencia"
   ]
  },
  {
   "cell_type": "code",
   "execution_count": 54,
   "id": "4a23153d",
   "metadata": {},
   "outputs": [
    {
     "data": {
      "text/plain": [
       "CATEGORIA\n",
       "Bebidas Para Preparar               128346\n",
       "Galletas                             92440\n",
       "Golosinas                            32810\n",
       "Cuidado Capilar F                    28231\n",
       "Alimentos Larga Vida Y Conservas     17766\n",
       "Snacks Y Frutos Secos                13911\n",
       "Hogar                                13647\n",
       "Pastas                               12313\n",
       "Carnes Frias                         10653\n",
       "Desodorantes                          9912\n",
       "Name: UNIDADES_BRUTAS, dtype: int64"
      ]
     },
     "execution_count": 54,
     "metadata": {},
     "output_type": "execute_result"
    }
   ],
   "source": [
    "table_01.groupby(\"CATEGORIA\")[\"UNIDADES_BRUTAS\"].sum().sort_values(ascending=False).head(10)"
   ]
  },
  {
   "cell_type": "markdown",
   "id": "dd692f33",
   "metadata": {},
   "source": [
    "* Categorias más consumidas por número de unidades:\n",
    "    * Bebidas Para Preparar: 128.346 unidades\n",
    "    * Galletas: 92.440 unidades\n",
    "    * Golosinas: 32.810"
   ]
  },
  {
   "cell_type": "code",
   "execution_count": 61,
   "id": "ee90a6f3",
   "metadata": {},
   "outputs": [
    {
     "data": {
      "text/plain": [
       "CATEGORIA\n",
       "Bebidas Para Preparar                 1,056,818,369\n",
       "Galletas                                666,575,177\n",
       "Cuidado Capilar F                       414,284,179\n",
       "Golosinas                               393,618,984\n",
       "Hogar                                   307,033,122\n",
       "Cuidado Capilar P                       224,821,747\n",
       "Cuidado Corporal F                      199,940,053\n",
       "Cuidado Facial P                        186,039,932\n",
       "Carnes Frias                            158,835,017\n",
       "Vitaminas, Minerales Y Suplementos      131,224,263\n",
       "Name: VENTA_BRUTA_CON_IVA, dtype: object"
      ]
     },
     "execution_count": 61,
     "metadata": {},
     "output_type": "execute_result"
    }
   ],
   "source": [
    "table_01.groupby(\"CATEGORIA\")[\"VENTA_BRUTA_CON_IVA\"].sum().sort_values(ascending=False).head(10).map('{:,.0f}'.format)"
   ]
  },
  {
   "cell_type": "markdown",
   "id": "770b9300",
   "metadata": {},
   "source": [
    "* Top categorias en términos de dinero:\n",
    "    * Bebidas Para Preparar: 1,056,818,369 pesos/usd\n",
    "    * Galletas: 666,575,177 pesos/usd\n",
    "    * Cuidado Capilar F: 414,284,179 pesos/usd"
   ]
  },
  {
   "cell_type": "code",
   "execution_count": 64,
   "id": "028ad5ce",
   "metadata": {},
   "outputs": [
    {
     "data": {
      "text/plain": [
       "Index(['UUID_CLIENTE_CONSUMIDOR', 'DEPARTAMENTO', 'CIUDAD',\n",
       "       'GENERO_DIM_CLIENTE', 'FECHANACIMIENTO_DIM_CLIENTE'],\n",
       "      dtype='object')"
      ]
     },
     "execution_count": 64,
     "metadata": {},
     "output_type": "execute_result"
    }
   ],
   "source": [
    "table_02.columns"
   ]
  },
  {
   "cell_type": "code",
   "execution_count": null,
   "id": "54c22c85",
   "metadata": {},
   "outputs": [
    {
     "name": "stdout",
     "output_type": "stream",
     "text": [
      "Ciudades donde se hacen más transacciones\n"
     ]
    },
    {
     "data": {
      "text/plain": [
       "CIUDAD\n",
       "BOGOTÁ, D.C.          59893\n",
       "MEDELLÍN              35664\n",
       "CALI                  21569\n",
       "BELLO                  9188\n",
       "BARRANQUILLA           6111\n",
       "CARTAGENA              5754\n",
       "SOACHA                 4918\n",
       "ITAGÜÍ                 4235\n",
       "ENVIGADO               3906\n",
       "SAN JOSÉ DE CÚCUTA     3255\n",
       "Name: count, dtype: int64"
      ]
     },
     "execution_count": 65,
     "metadata": {},
     "output_type": "execute_result"
    }
   ],
   "source": [
    "# asumiento que las transacciones de dataset1 y dataset2 son las misma\n",
    "\n",
    "print(\"Ciudades donde se hacen más transacciones\")\n",
    "table_02[\"CIUDAD\"].value_counts().head(10)"
   ]
  },
  {
   "cell_type": "code",
   "execution_count": 66,
   "id": "1f8ab14e",
   "metadata": {},
   "outputs": [
    {
     "name": "stdout",
     "output_type": "stream",
     "text": [
      "Porcentaje de transacciones que representa cada ciudad del total de transacciones\n"
     ]
    },
    {
     "data": {
      "text/plain": [
       "CIUDAD\n",
       "BOGOTÁ, D.C.          25.93\n",
       "MEDELLÍN              15.44\n",
       "CALI                   9.34\n",
       "BELLO                  3.98\n",
       "BARRANQUILLA           2.65\n",
       "CARTAGENA              2.49\n",
       "SOACHA                 2.13\n",
       "ITAGÜÍ                 1.83\n",
       "ENVIGADO               1.69\n",
       "SAN JOSÉ DE CÚCUTA     1.41\n",
       "Name: count, dtype: float64"
      ]
     },
     "execution_count": 66,
     "metadata": {},
     "output_type": "execute_result"
    }
   ],
   "source": [
    "percents = round(((table_02[\"CIUDAD\"].value_counts().head(10)) / len(table_02) ) * 100, 2)\n",
    "print(\"Porcentaje de transacciones que representa cada ciudad del total de transacciones\")\n",
    "percents"
   ]
  },
  {
   "cell_type": "markdown",
   "id": "beb0d237",
   "metadata": {},
   "source": [
    "* Bogota, Medellín y Cali, representan el 50% de las transacciones del comercio"
   ]
  },
  {
   "cell_type": "code",
   "execution_count": 67,
   "id": "50242ffb",
   "metadata": {},
   "outputs": [
    {
     "name": "stdout",
     "output_type": "stream",
     "text": [
      "Departamento donde se hacen más transacciones\n"
     ]
    },
    {
     "data": {
      "text/plain": [
       "DEPARTAMENTO\n",
       "ANTIOQUIA             64324\n",
       "BOGOTÁ, D.C.          59892\n",
       "VALLE DEL CAUCA       27445\n",
       "CUNDINAMARCA          13015\n",
       "ATLÁNTICO             11120\n",
       "SANTANDER              7659\n",
       "BOLÍVAR                6399\n",
       "NORTE DE SANTANDER     5985\n",
       "META                   4495\n",
       "TOLIMA                 3824\n",
       "Name: count, dtype: int64"
      ]
     },
     "execution_count": 67,
     "metadata": {},
     "output_type": "execute_result"
    }
   ],
   "source": [
    "print(\"Departamento donde se hacen más transacciones\")\n",
    "table_02[\"DEPARTAMENTO\"].value_counts().head(10)"
   ]
  },
  {
   "cell_type": "markdown",
   "id": "2643335b",
   "metadata": {},
   "source": [
    "* Antioquia es el departamento que más transacciones hizo en ese año"
   ]
  },
  {
   "cell_type": "code",
   "execution_count": 68,
   "id": "46d71999",
   "metadata": {},
   "outputs": [
    {
     "name": "stdout",
     "output_type": "stream",
     "text": [
      "Departamento donde se hacen más transacciones\n"
     ]
    },
    {
     "data": {
      "text/plain": [
       "GENERO_DIM_CLIENTE\n",
       "F    177277\n",
       "M     19745\n",
       "Name: count, dtype: int64"
      ]
     },
     "execution_count": 68,
     "metadata": {},
     "output_type": "execute_result"
    }
   ],
   "source": [
    "print(\"Departamento donde se hacen más transacciones\")\n",
    "table_02[\"GENERO_DIM_CLIENTE\"].value_counts().head(10)"
   ]
  },
  {
   "cell_type": "code",
   "execution_count": 69,
   "id": "66e27cf3",
   "metadata": {},
   "outputs": [
    {
     "name": "stdout",
     "output_type": "stream",
     "text": [
      "Porcentaje de transacciones que representa cada ciudad del total de transacciones\n"
     ]
    },
    {
     "data": {
      "text/plain": [
       "GENERO_DIM_CLIENTE\n",
       "F    76.74\n",
       "M     8.55\n",
       "Name: count, dtype: float64"
      ]
     },
     "execution_count": 69,
     "metadata": {},
     "output_type": "execute_result"
    }
   ],
   "source": [
    "percents = round(((table_02[\"GENERO_DIM_CLIENTE\"].value_counts().head(10)) / len(table_02) ) * 100, 2)\n",
    "print(\"Porcentaje de transacciones que representa cada ciudad del total de transacciones\")\n",
    "percents"
   ]
  },
  {
   "cell_type": "markdown",
   "id": "9b848bf3",
   "metadata": {},
   "source": [
    "* Las mujeres son las que más transacciones hacen"
   ]
  },
  {
   "cell_type": "markdown",
   "id": "197786ac",
   "metadata": {},
   "source": [
    "### Análisis gráficos básicos"
   ]
  },
  {
   "cell_type": "code",
   "execution_count": 70,
   "id": "cb5330dd",
   "metadata": {},
   "outputs": [
    {
     "data": {
      "text/plain": [
       "Index(['UUID_CLIENTE_CONSUMIDOR', 'PEDIDO', 'FECHA_SOLUCION', 'COD_PRODUCTO',\n",
       "       'CATEGORIA', 'UNIDADES_BRUTAS', 'VENTA_BRUTA_CON_IVA'],\n",
       "      dtype='object')"
      ]
     },
     "execution_count": 70,
     "metadata": {},
     "output_type": "execute_result"
    }
   ],
   "source": [
    "table_01.columns"
   ]
  },
  {
   "cell_type": "code",
   "execution_count": 17,
   "id": "3a7445b8",
   "metadata": {},
   "outputs": [
    {
     "data": {
      "image/png": "[encoded data removed]",
      "text/plain": [
       "<Figure size 1000x600 with 1 Axes>"
      ]
     },
     "metadata": {},
     "output_type": "display_data"
    }
   ],
   "source": [
    "import matplotlib.pyplot as plt\n",
    "\n",
    "plt.figure(figsize=(10, 6))\n",
    "# Usamos un gran número de bins para ver mejor la distribución\n",
    "plt.hist(table_01['UNIDADES_BRUTAS'], bins=50, edgecolor='black', alpha=0.7)\n",
    "\n",
    "plt.title('Distribución de UNIDADES_BRUTAS (Búsqueda de Outliers)', fontsize=15)\n",
    "plt.xlabel('UNIDADES_BRUTAS', fontsize=12)\n",
    "plt.ylabel('Frecuencia', fontsize=12)\n",
    "plt.grid(axis='y', linestyle='--', alpha=0.6)\n",
    "plt.show()"
   ]
  },
  {
   "cell_type": "markdown",
   "id": "ab6eb8e4",
   "metadata": {},
   "source": [
    "* aparentemente hay un oulier en las ~4.800 unidades que se vio en el analisis descriptivo anterior. Voy a validar esta informacion con un boxplot"
   ]
  },
  {
   "cell_type": "code",
   "execution_count": 19,
   "id": "8ff97dcc",
   "metadata": {},
   "outputs": [
    {
     "data": {
      "image/png": "[encoded data removed]",
      "text/plain": [
       "<Figure size 1200x400 with 1 Axes>"
      ]
     },
     "metadata": {},
     "output_type": "display_data"
    }
   ],
   "source": [
    "import matplotlib.pyplot as plt\n",
    "import seaborn as sns\n",
    "import pandas as pd\n",
    "\n",
    "plt.figure(figsize=(12, 4))\n",
    "# Usamos un Box Plot horizontal (orientación 'h')\n",
    "# El argumento 'x' es la variable a analizar\n",
    "sns.boxplot(x=table_01['UNIDADES_BRUTAS'], orient='h')\n",
    "\n",
    "plt.title('Identificación de posibles Outliers en UNIDADES_BRUTAS', fontsize=16)\n",
    "plt.xlabel('UNIDADES_BRUTAS', fontsize=12)\n",
    "plt.grid(axis='x', linestyle='--', alpha=0.6)\n",
    "plt.show()"
   ]
  },
  {
   "cell_type": "markdown",
   "id": "ea8a4c14",
   "metadata": {},
   "source": [
    "* Se tendria que entender con el área encargada como entender estos datos anormales o fuera de grandes rangos."
   ]
  },
  {
   "cell_type": "code",
   "execution_count": null,
   "id": "09478b99",
   "metadata": {},
   "outputs": [
    {
     "data": {
      "image/png": "[encoded data removed]",
      "text/plain": [
       "<Figure size 1200x600 with 1 Axes>"
      ]
     },
     "metadata": {},
     "output_type": "display_data"
    }
   ],
   "source": [
    "import pandas as pd\n",
    "import matplotlib.pyplot as plt\n",
    "\n",
    "\n",
    "# 1. Asegurarse de que la columna de fecha esté en formato datetime\n",
    "table_01['FECHA_SOLUCION'] = pd.to_datetime(table_01['FECHA_SOLUCION'])\n",
    "\n",
    "# 2. Establecer la columna de fecha como índice para facilitar el análisis temporal\n",
    "df_indexed = table_01.set_index('FECHA_SOLUCION')\n",
    "\n",
    "# 3. Agrupar por mes y sumar la venta bruta\n",
    "# El método 'resample(\"M\")' agrupa por fin de mes ('M') y luego .sum() totaliza el monto.\n",
    "df_monthly_transactions = df_indexed['VENTA_BRUTA_CON_IVA'].resample('ME').sum()\n",
    "\n",
    "# 4. Crear una columna de etiqueta 'Año-Mes'\n",
    "df_monthly_transactions.index = df_monthly_transactions.index.strftime('%Y-%m')\n",
    "\n",
    "plt.figure(figsize=(12, 6))\n",
    "plt.plot(\n",
    "    df_monthly_transactions.index,\n",
    "    df_monthly_transactions.values,\n",
    "    marker='o', linestyle='-', color='#1f77b4'  # Color azul estándar de Matplotlib\n",
    ")\n",
    "\n",
    "plt.title(\"Venta Bruta Total con IVA por Mes\", fontsize=16)\n",
    "plt.xlabel(\"Mes\", fontsize=12)\n",
    "plt.ylabel(\"Venta Total con IVA\", fontsize=12)\n",
    "plt.grid(True, linestyle='--', alpha=0.7)\n",
    "\n",
    "plt.xticks(rotation=45, ha='right')\n",
    "plt.tight_layout()\n",
    "\n",
    "plt.show()"
   ]
  },
  {
   "cell_type": "markdown",
   "id": "1b5e551f",
   "metadata": {},
   "source": [
    "* Mes que más dinero entró a la compañia: octubre de 2023\n",
    "* Mes que menos dinero entró a la compañia: diciembre de 2022"
   ]
  },
  {
   "cell_type": "code",
   "execution_count": 9,
   "id": "6a0adcf2",
   "metadata": {},
   "outputs": [
    {
     "data": {
      "image/png": "[encoded data removed]",
      "text/plain": [
       "<Figure size 1200x600 with 1 Axes>"
      ]
     },
     "metadata": {},
     "output_type": "display_data"
    }
   ],
   "source": [
    "# 3. Agrupar por mes y sumar las UNIDADES_BRUTAS\n",
    "# El método 'resample(\"M\")' agrupa por fin de mes y luego .sum() totaliza las unidades.\n",
    "df_monthly_units = df_indexed['UNIDADES_BRUTAS'].resample('ME').sum()\n",
    "\n",
    "# 4. Crear una columna de etiqueta 'Año-Mes' para el gráfico\n",
    "df_monthly_units.index = df_monthly_units.index.strftime('%Y-%m')\n",
    "\n",
    "plt.figure(figsize=(12, 6))\n",
    "plt.plot(\n",
    "    df_monthly_units.index,\n",
    "    df_monthly_units.values,\n",
    "    marker='o', linestyle='-', color='darkorange' # Cambiamos el color para diferenciarlo\n",
    ")\n",
    "\n",
    "plt.title(\"Unidades Brutas Totales Consumidas por Mes\", fontsize=16)\n",
    "plt.xlabel(\"Mes\", fontsize=12)\n",
    "plt.ylabel(\"Unidades Totales\", fontsize=12)\n",
    "plt.grid(True, linestyle='--', alpha=0.7)\n",
    "\n",
    "plt.xticks(rotation=45, ha='right')\n",
    "plt.tight_layout()\n",
    "\n",
    "# Mostrar el gráfico\n",
    "plt.show()"
   ]
  },
  {
   "cell_type": "markdown",
   "id": "790e5c24",
   "metadata": {},
   "source": [
    "* Sigue mismo patron que las ventas totales en terminos de dinero"
   ]
  },
  {
   "cell_type": "markdown",
   "id": "1d62ddb5",
   "metadata": {},
   "source": [
    "### Análisis descriptivos detallados"
   ]
  },
  {
   "cell_type": "code",
   "execution_count": 22,
   "id": "a8e48c6e",
   "metadata": {},
   "outputs": [
    {
     "name": "stdout",
     "output_type": "stream",
     "text": [
      "Venta Promedio por Categoría (Top 10)\n",
      "CATEGORIA\n",
      "Alimentos                                   $713,220\n",
      "Electrodomésticos                           $178,660\n",
      "Electromenores                              $176,094\n",
      "Fajas Y Prendas De Control                   $90,021\n",
      "Premios                                      $89,659\n",
      "Colonias                                     $88,610\n",
      "Hogar P                                      $80,687\n",
      "Hogar Premios                                $74,895\n",
      "Enterizos, conjuntos y vestidos infantil     $63,972\n",
      "Prenda inferior infantil                     $54,036\n",
      "Name: VENTA_BRUTA_CON_IVA, dtype: object\n"
     ]
    }
   ],
   "source": [
    "print(\"Venta Promedio por Categoría (Top 10)\")\n",
    "# Agrupa, calcula el promedio, ordena y formatea para fácil lectura\n",
    "venta_promedio = table_01.groupby(\"CATEGORIA\")[\"VENTA_BRUTA_CON_IVA\"].mean().sort_values(ascending=False).head(10)\n",
    "\n",
    "# Formatear el resultado (usando notación de moneda si es apropiado)\n",
    "print(venta_promedio.map('${:,.0f}'.format))\n"
   ]
  },
  {
   "cell_type": "code",
   "execution_count": null,
   "id": "e3aa7bc7",
   "metadata": {},
   "outputs": [
    {
     "name": "stdout",
     "output_type": "stream",
     "text": [
      "\n",
      "Top 5 Clientes por Frecuencia de Pedidos:\n",
      "UUID_CLIENTE_CONSUMIDOR\n",
      "899E06B26BFA75DA5D0A180327615250    922\n",
      "7B607AE9057FD15F050A180326615250    537\n",
      "87C86BDD503A79F1FD0A180326615250    358\n",
      "87E88AC459A59CC6940A180326615250    152\n",
      "87C88198398E86258B0A180327615250    117\n",
      "Name: PEDIDO, dtype: int64\n"
     ]
    }
   ],
   "source": [
    "# clientes más activos\n",
    "print(\"\\nTop 5 Clientes por Frecuencia de Pedidos:\")\n",
    "# Cuenta cuántas veces aparece cada cliente en la columna de pedidos\n",
    "clientes_frecuentes = table_01.groupby('UUID_CLIENTE_CONSUMIDOR')['PEDIDO'].nunique().sort_values(ascending=False).head(5)\n",
    "print(clientes_frecuentes)"
   ]
  },
  {
   "cell_type": "code",
   "execution_count": 26,
   "id": "29feb033",
   "metadata": {},
   "outputs": [
    {
     "name": "stdout",
     "output_type": "stream",
     "text": [
      "Top 5 Clientes por Gasto Total (Mayor VENTA_BRUTA_CON_IVA)\n",
      "UUID_CLIENTE_CONSUMIDOR\n",
      "6D3DBBA7773C53DB940A180313615250    $214,240,453\n",
      "6D99A033892AC1247C0A180313615250     $83,713,536\n",
      "86E6AA2CA6A73AFE1F0A180327615250     $47,062,600\n",
      "6E673544E1186E37020A180313615250     $36,668,132\n",
      "79B4E08339BEE1A4680A180327615250     $35,511,483\n",
      "Name: VENTA_BRUTA_CON_IVA, dtype: object\n"
     ]
    }
   ],
   "source": [
    "# Clientes por Impacto Económico (Valor)\n",
    "\n",
    "print(\"Top 5 Clientes por Gasto Total (Mayor VENTA_BRUTA_CON_IVA)\")\n",
    "# Agrupa por cliente y suma la venta total\n",
    "gasto_por_cliente = table_01.groupby('UUID_CLIENTE_CONSUMIDOR')['VENTA_BRUTA_CON_IVA'].sum().sort_values(ascending=False).head(5)\n",
    "\n",
    "# Formatear el resultado para mejor lectura\n",
    "print(gasto_por_cliente.map('${:,.0f}'.format))"
   ]
  },
  {
   "cell_type": "code",
   "execution_count": null,
   "id": "8752c803",
   "metadata": {},
   "outputs": [
    {
     "name": "stdout",
     "output_type": "stream",
     "text": [
      "Filas después de corregir el merge: 231000\n"
     ]
    }
   ],
   "source": [
    "# Elimina duplicados, manteniendo la primera aparición de cada cliente\n",
    "table_02_unique = table_02.drop_duplicates(subset=['UUID_CLIENTE_CONSUMIDOR'], keep='first')\n",
    "\n",
    "# Merge con la tabla de clientes únicos:\n",
    "df_merged = pd.merge(\n",
    "    table_01,\n",
    "    table_02_unique,\n",
    "    on='UUID_CLIENTE_CONSUMIDOR',\n",
    "    how='left'\n",
    ")\n",
    "# El resultado debería ser muy cercano a len(table_01)\n",
    "print(f\"Filas: {len(df_merged)}\")"
   ]
  },
  {
   "cell_type": "code",
   "execution_count": 35,
   "id": "0aa6f4a9",
   "metadata": {},
   "outputs": [
    {
     "name": "stdout",
     "output_type": "stream",
     "text": [
      "CIUDAD\n",
      "BOGOTÁ, D.C.          $1,381,264,788\n",
      "MEDELLÍN              $1,030,134,775\n",
      "SAN JOSÉ DE CÚCUTA      $672,621,425\n",
      "CALI                    $486,973,470\n",
      "BELLO                   $233,954,209\n",
      "Name: VENTA_BRUTA_CON_IVA, dtype: object\n"
     ]
    }
   ],
   "source": [
    "ventas_por_ciudad = df_merged.groupby('CIUDAD')['VENTA_BRUTA_CON_IVA'].sum().sort_values(ascending=False).head(5)\n",
    "    \n",
    "# Formateo (usando el formato que definimos antes)\n",
    "print(ventas_por_ciudad.map('${:,.0f}'.format))"
   ]
  },
  {
   "cell_type": "code",
   "execution_count": 37,
   "id": "ca0affdd",
   "metadata": {},
   "outputs": [
    {
     "name": "stdout",
     "output_type": "stream",
     "text": [
      "Venta Promedio por Transacción por Género:\n",
      "GENERO_DIM_CLIENTE\n",
      "M    $47,446\n",
      "F    $25,123\n",
      "Name: VENTA_BRUTA_CON_IVA, dtype: object\n"
     ]
    }
   ],
   "source": [
    "print(\"Venta Promedio por Transacción por Género:\")\n",
    "\n",
    "# Agrupa por GENERO y calcula la media de VENTA_BRUTA_CON_IVA\n",
    "venta_promedio_genero = df_merged.groupby('GENERO_DIM_CLIENTE')['VENTA_BRUTA_CON_IVA'].mean().sort_values(ascending=False)\n",
    "\n",
    "# Formato de moneda\n",
    "print(venta_promedio_genero.map('${:,.0f}'.format))"
   ]
  },
  {
   "cell_type": "code",
   "execution_count": null,
   "id": "ac9bd974",
   "metadata": {},
   "outputs": [
    {
     "name": "stdout",
     "output_type": "stream",
     "text": [
      "\n",
      "Top 5 Categorías más Consumidas por F (por Unidades):\n",
      "CATEGORIA\n",
      "Galletas                            71902\n",
      "Bebidas Para Preparar               64580\n",
      "Golosinas                           22804\n",
      "Cuidado Capilar F                   16748\n",
      "Alimentos Larga Vida Y Conservas    13720\n",
      "Name: UNIDADES_BRUTAS, dtype: int64\n"
     ]
    }
   ],
   "source": [
    "genero_foco = 'F'\n",
    "\n",
    "print(f\"\\nTop 5 Categorías más Consumidas por {genero_foco} (por Unidades):\")\n",
    "\n",
    "# 1. Filtra por el género\n",
    "df_genero = df_merged[df_merged['GENERO_DIM_CLIENTE'] == genero_foco]\n",
    "\n",
    "# 2. Agrupa por CATEGORIA y suma las unidades\n",
    "top_categorias_genero = df_genero.groupby('CATEGORIA')['UNIDADES_BRUTAS'].sum().sort_values(ascending=False).head(5)\n",
    "\n",
    "print(top_categorias_genero.round(0))"
   ]
  },
  {
   "cell_type": "code",
   "execution_count": null,
   "id": "8ba7e5f0",
   "metadata": {},
   "outputs": [
    {
     "name": "stdout",
     "output_type": "stream",
     "text": [
      "\n",
      "Top 5 Categorías más Consumidas por M (por Unidades):\n",
      "CATEGORIA\n",
      "Bebidas Para Preparar    56327\n",
      "Galletas                 10509\n",
      "Cuidado Capilar F         9941\n",
      "Golosinas                 7071\n",
      "Pastas                    2168\n",
      "Name: UNIDADES_BRUTAS, dtype: int64\n"
     ]
    }
   ],
   "source": [
    "genero_foco = 'M'\n",
    "\n",
    "print(f\"\\nTop 5 Categorías más Consumidas por {genero_foco} (por Unidades):\")\n",
    "\n",
    "# 1. Filtra por el género\n",
    "df_genero = df_merged[df_merged['GENERO_DIM_CLIENTE'] == genero_foco]\n",
    "\n",
    "# 2. Agrupa por CATEGORIA y suma las unidades\n",
    "top_categorias_genero = df_genero.groupby('CATEGORIA')['UNIDADES_BRUTAS'].sum().sort_values(ascending=False).head(5)\n",
    "\n",
    "print(top_categorias_genero.round(0))"
   ]
  }
 ],
 "metadata": {
  "kernelspec": {
   "display_name": ".venv",
   "language": "python",
   "name": "python3"
  },
  "language_info": {
   "codemirror_mode": {
    "name": "ipython",
    "version": 3
   },
   "file_extension": ".py",
   "mimetype": "text/x-python",
   "name": "python",
   "nbconvert_exporter": "python",
   "pygments_lexer": "ipython3",
   "version": "3.13.9"
  }
 },
 "nbformat": 4,
 "nbformat_minor": 5
}
